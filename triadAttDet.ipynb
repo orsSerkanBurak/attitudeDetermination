{
 "cells": [
  {
   "cell_type": "code",
   "execution_count": 1,
   "id": "61df883a",
   "metadata": {},
   "outputs": [
    {
     "name": "stdout",
     "output_type": "stream",
     "text": [
      "BbarB:\n",
      "[[ 0.99970013 -0.02019574 -0.01382426]\n",
      " [ 0.0199059   0.99958589 -0.02076977]\n",
      " [ 0.01423821  0.02048801  0.99968841]]\n",
      "PRV (Axis-angle representation):\n",
      "[ 0.02063242 -0.01403363  0.02005425]\n",
      "Angle in degrees:\n",
      "1.8341922519300204\n"
     ]
    }
   ],
   "source": [
    "import numpy as np\n",
    "from scipy.spatial.transform import Rotation as R\n",
    "\n",
    "BbarN = np.array([[0.969846, 0.17101, 0.173648],\n",
    "                  [-0.200706, 0.96461, 0.17101],\n",
    "                  [-0.138258, -0.200706, 0.969846]])\n",
    "\n",
    "BNtrue = np.array([[0.963592, 0.187303, 0.190809],\n",
    "                   [-0.223042, 0.956645, 0.187303],\n",
    "                   [-0.147454, -0.223042, 0.963592]])\n",
    "\n",
    "BbarB = np.dot(BbarN, BNtrue.T)\n",
    "\n",
    "def C2PRV(C):\n",
    "    r = R.from_matrix(C)\n",
    "    return r.as_rotvec()\n",
    "\n",
    "p = C2PRV(BbarB)\n",
    "angle_deg = np.linalg.norm(p) * 180 / np.pi\n",
    "\n",
    "print(\"BbarB:\")\n",
    "print(BbarB)\n",
    "print(\"PRV (Axis-angle representation):\")\n",
    "print(p)\n",
    "print(\"Angle in degrees:\")\n",
    "print(angle_deg)\n"
   ]
  },
  {
   "cell_type": "code",
   "execution_count": null,
   "id": "8f72eab1",
   "metadata": {},
   "outputs": [],
   "source": []
  }
 ],
 "metadata": {
  "kernelspec": {
   "display_name": "Python 3 (ipykernel)",
   "language": "python",
   "name": "python3"
  },
  "language_info": {
   "codemirror_mode": {
    "name": "ipython",
    "version": 3
   },
   "file_extension": ".py",
   "mimetype": "text/x-python",
   "name": "python",
   "nbconvert_exporter": "python",
   "pygments_lexer": "ipython3",
   "version": "3.9.13"
  }
 },
 "nbformat": 4,
 "nbformat_minor": 5
}
